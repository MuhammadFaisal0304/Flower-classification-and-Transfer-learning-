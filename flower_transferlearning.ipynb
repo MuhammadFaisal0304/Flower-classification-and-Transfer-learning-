{
  "nbformat": 4,
  "nbformat_minor": 0,
  "metadata": {
    "colab": {
      "name": "flower_transferlearning.ipynb",
      "provenance": [],
      "collapsed_sections": []
    },
    "kernelspec": {
      "name": "python3",
      "display_name": "Python 3"
    },
    "language_info": {
      "name": "python"
    },
    "accelerator": "GPU"
  },
  "cells": [
    {
      "cell_type": "code",
      "metadata": {
        "colab": {
          "base_uri": "https://localhost:8080/"
        },
        "id": "rnBTY-CmzHxH",
        "outputId": "72fab09a-a184-4a43-c612-4ba4e435a61d"
      },
      "source": [
        "from tensorflow.keras.applications import VGG16\n",
        "\n",
        "conv_base = VGG16(weights='imagenet',\n",
        "                 include_top=False,\n",
        "                 input_shape=(150,150,3))"
      ],
      "execution_count": null,
      "outputs": [
        {
          "output_type": "stream",
          "name": "stdout",
          "text": [
            "Downloading data from https://storage.googleapis.com/tensorflow/keras-applications/vgg16/vgg16_weights_tf_dim_ordering_tf_kernels_notop.h5\n",
            "58892288/58889256 [==============================] - 1s 0us/step\n",
            "58900480/58889256 [==============================] - 1s 0us/step\n"
          ]
        }
      ]
    },
    {
      "cell_type": "code",
      "metadata": {
        "colab": {
          "base_uri": "https://localhost:8080/"
        },
        "id": "mNlQuQEA0SiX",
        "outputId": "15e999c6-2799-44c1-9942-d061b9430748"
      },
      "source": [
        "from google.colab import drive\n",
        "drive.mount('/content/drive')"
      ],
      "execution_count": null,
      "outputs": [
        {
          "output_type": "stream",
          "name": "stdout",
          "text": [
            "Drive already mounted at /content/drive; to attempt to forcibly remount, call drive.mount(\"/content/drive\", force_remount=True).\n"
          ]
        }
      ]
    },
    {
      "cell_type": "code",
      "metadata": {
        "colab": {
          "base_uri": "https://localhost:8080/"
        },
        "id": "_XH4oLrtzNLB",
        "outputId": "913ce37f-003c-49ac-da25-ea8e3779f5c8"
      },
      "source": [
        "conv_base.summary()"
      ],
      "execution_count": null,
      "outputs": [
        {
          "output_type": "stream",
          "name": "stdout",
          "text": [
            "Model: \"vgg16\"\n",
            "_________________________________________________________________\n",
            "Layer (type)                 Output Shape              Param #   \n",
            "=================================================================\n",
            "input_1 (InputLayer)         [(None, 150, 150, 3)]     0         \n",
            "_________________________________________________________________\n",
            "block1_conv1 (Conv2D)        (None, 150, 150, 64)      1792      \n",
            "_________________________________________________________________\n",
            "block1_conv2 (Conv2D)        (None, 150, 150, 64)      36928     \n",
            "_________________________________________________________________\n",
            "block1_pool (MaxPooling2D)   (None, 75, 75, 64)        0         \n",
            "_________________________________________________________________\n",
            "block2_conv1 (Conv2D)        (None, 75, 75, 128)       73856     \n",
            "_________________________________________________________________\n",
            "block2_conv2 (Conv2D)        (None, 75, 75, 128)       147584    \n",
            "_________________________________________________________________\n",
            "block2_pool (MaxPooling2D)   (None, 37, 37, 128)       0         \n",
            "_________________________________________________________________\n",
            "block3_conv1 (Conv2D)        (None, 37, 37, 256)       295168    \n",
            "_________________________________________________________________\n",
            "block3_conv2 (Conv2D)        (None, 37, 37, 256)       590080    \n",
            "_________________________________________________________________\n",
            "block3_conv3 (Conv2D)        (None, 37, 37, 256)       590080    \n",
            "_________________________________________________________________\n",
            "block3_pool (MaxPooling2D)   (None, 18, 18, 256)       0         \n",
            "_________________________________________________________________\n",
            "block4_conv1 (Conv2D)        (None, 18, 18, 512)       1180160   \n",
            "_________________________________________________________________\n",
            "block4_conv2 (Conv2D)        (None, 18, 18, 512)       2359808   \n",
            "_________________________________________________________________\n",
            "block4_conv3 (Conv2D)        (None, 18, 18, 512)       2359808   \n",
            "_________________________________________________________________\n",
            "block4_pool (MaxPooling2D)   (None, 9, 9, 512)         0         \n",
            "_________________________________________________________________\n",
            "block5_conv1 (Conv2D)        (None, 9, 9, 512)         2359808   \n",
            "_________________________________________________________________\n",
            "block5_conv2 (Conv2D)        (None, 9, 9, 512)         2359808   \n",
            "_________________________________________________________________\n",
            "block5_conv3 (Conv2D)        (None, 9, 9, 512)         2359808   \n",
            "_________________________________________________________________\n",
            "block5_pool (MaxPooling2D)   (None, 4, 4, 512)         0         \n",
            "=================================================================\n",
            "Total params: 14,714,688\n",
            "Trainable params: 14,714,688\n",
            "Non-trainable params: 0\n",
            "_________________________________________________________________\n"
          ]
        }
      ]
    },
    {
      "cell_type": "code",
      "metadata": {
        "id": "ir_ay7UWzR3q"
      },
      "source": [
        "from tensorflow.keras.preprocessing.image import ImageDataGenerator\n",
        "datagen = ImageDataGenerator(rescale=1./255)\n",
        "batch_size = 32\n",
        "import numpy as np\n",
        "def extract_features(directory, sample_count,numclass):\n",
        "    features = np.zeros(shape=(sample_count, 4, 4, 512))\n",
        "    labels = np.zeros(shape=(sample_count,numclass))\n",
        "    generator = datagen.flow_from_directory(\n",
        "        directory,\n",
        "        target_size=(150, 150),\n",
        "        batch_size=batch_size,\n",
        "        class_mode='categorical')\n",
        "    i=0\n",
        "    for inputs_batch, labels_batch in generator:\n",
        "        features_batch = conv_base.predict(inputs_batch)\n",
        "        features[i * batch_size : (i + 1) * batch_size] = features_batch\n",
        "        labels[i * batch_size : (i + 1) * batch_size] = labels_batch\n",
        "        i += 1\n",
        "        if i * batch_size >= sample_count:\n",
        "            break\n",
        "    return features, labels"
      ],
      "execution_count": null,
      "outputs": []
    },
    {
      "cell_type": "code",
      "metadata": {
        "id": "54qYs4VIzcQ_"
      },
      "source": [
        "train_dir=\"/content/drive/MyDrive/flower_classification/data/train\"\n",
        "validation_dir=\"/content/drive/MyDrive/flower_classification/data/val\"\n",
        "test_dir=\"/content/drive/MyDrive/flower_classification/data/test\""
      ],
      "execution_count": null,
      "outputs": []
    },
    {
      "cell_type": "markdown",
      "metadata": {
        "id": "VDKba1yuJm6z"
      },
      "source": [
        ""
      ]
    },
    {
      "cell_type": "code",
      "metadata": {
        "id": "_OjwboTUzf2l"
      },
      "source": [
        "train_features, train_labels = extract_features(train_dir, 3452 ,5)\n",
        "validation_features, validation_labels = extract_features(validation_dir, 430,5)"
      ],
      "execution_count": null,
      "outputs": []
    },
    {
      "cell_type": "code",
      "metadata": {
        "id": "Awh484BbZTib"
      },
      "source": [
        "train_features = np.reshape(train_features, (3452, 4*4* 512))\n",
        "validation_features = np.reshape(validation_features, (430, 4*4* 512))"
      ],
      "execution_count": null,
      "outputs": []
    },
    {
      "cell_type": "code",
      "metadata": {
        "colab": {
          "base_uri": "https://localhost:8080/"
        },
        "id": "B7pFcF5uWa7v",
        "outputId": "2a262c9b-5298-4718-8c66-0d8bf25427c6"
      },
      "source": [
        "train_features.shape"
      ],
      "execution_count": null,
      "outputs": [
        {
          "output_type": "execute_result",
          "data": {
            "text/plain": [
              "(3452, 8192)"
            ]
          },
          "metadata": {},
          "execution_count": 25
        }
      ]
    },
    {
      "cell_type": "code",
      "metadata": {
        "colab": {
          "base_uri": "https://localhost:8080/"
        },
        "id": "WHqVt5hQWbBQ",
        "outputId": "1a374204-cb6a-40b9-c69c-c8e81ea0d8cb"
      },
      "source": [
        "train_labels.shape"
      ],
      "execution_count": null,
      "outputs": [
        {
          "output_type": "execute_result",
          "data": {
            "text/plain": [
              "(3452, 5)"
            ]
          },
          "metadata": {},
          "execution_count": 30
        }
      ]
    },
    {
      "cell_type": "code",
      "metadata": {
        "colab": {
          "base_uri": "https://localhost:8080/"
        },
        "id": "qeG-qfy4JtIC",
        "outputId": "09498bb6-482b-4248-bc41-4f8170c3656e"
      },
      "source": [
        "from tensorflow.keras import models\n",
        "from tensorflow.keras import layers\n",
        "from tensorflow.keras import optimizers\n",
        "model = models.Sequential()\n",
        "model.add(layers.Flatten())\n",
        "model.add(layers.Dense(256, activation='relu'))\n",
        "model.add(layers.Dropout(0.5))\n",
        "model.add(layers.Dense(5, activation='softmax'))\n",
        "model.compile(optimizer=optimizers.RMSprop(),\n",
        "    loss='categorical_crossentropy',\n",
        "    metrics=['acc'])\n",
        "history = model.fit(train_features, train_labels,\n",
        "epochs=30,\n",
        "batch_size=32,\n",
        "validation_data=(validation_features, validation_labels))"
      ],
      "execution_count": null,
      "outputs": [
        {
          "output_type": "stream",
          "name": "stdout",
          "text": [
            "Epoch 1/30\n",
            "108/108 [==============================] - 1s 8ms/step - loss: 1.3238 - acc: 0.5669 - val_loss: 0.7160 - val_acc: 0.7442\n",
            "Epoch 2/30\n",
            "108/108 [==============================] - 1s 6ms/step - loss: 0.7707 - acc: 0.7115 - val_loss: 0.6480 - val_acc: 0.7744\n",
            "Epoch 3/30\n",
            "108/108 [==============================] - 1s 6ms/step - loss: 0.6570 - acc: 0.7598 - val_loss: 0.5556 - val_acc: 0.7953\n",
            "Epoch 4/30\n",
            "108/108 [==============================] - 1s 6ms/step - loss: 0.5672 - acc: 0.7963 - val_loss: 0.6013 - val_acc: 0.7744\n",
            "Epoch 5/30\n",
            "108/108 [==============================] - 1s 6ms/step - loss: 0.4972 - acc: 0.8253 - val_loss: 0.5893 - val_acc: 0.7884\n",
            "Epoch 6/30\n",
            "108/108 [==============================] - 1s 6ms/step - loss: 0.4197 - acc: 0.8520 - val_loss: 0.5921 - val_acc: 0.8047\n",
            "Epoch 7/30\n",
            "108/108 [==============================] - 1s 6ms/step - loss: 0.3809 - acc: 0.8572 - val_loss: 0.7169 - val_acc: 0.7651\n",
            "Epoch 8/30\n",
            "108/108 [==============================] - 1s 6ms/step - loss: 0.3535 - acc: 0.8740 - val_loss: 0.6100 - val_acc: 0.8116\n",
            "Epoch 9/30\n",
            "108/108 [==============================] - 1s 6ms/step - loss: 0.3032 - acc: 0.8850 - val_loss: 0.6402 - val_acc: 0.8186\n",
            "Epoch 10/30\n",
            "108/108 [==============================] - 1s 7ms/step - loss: 0.2821 - acc: 0.8963 - val_loss: 0.7424 - val_acc: 0.7837\n",
            "Epoch 11/30\n",
            "108/108 [==============================] - 1s 6ms/step - loss: 0.2534 - acc: 0.9041 - val_loss: 0.7441 - val_acc: 0.8000\n",
            "Epoch 12/30\n",
            "108/108 [==============================] - 1s 6ms/step - loss: 0.2377 - acc: 0.9174 - val_loss: 0.6721 - val_acc: 0.8023\n",
            "Epoch 13/30\n",
            "108/108 [==============================] - 1s 7ms/step - loss: 0.2221 - acc: 0.9212 - val_loss: 0.7151 - val_acc: 0.7837\n",
            "Epoch 14/30\n",
            "108/108 [==============================] - 1s 6ms/step - loss: 0.1992 - acc: 0.9273 - val_loss: 0.7280 - val_acc: 0.8163\n",
            "Epoch 15/30\n",
            "108/108 [==============================] - 1s 6ms/step - loss: 0.1936 - acc: 0.9345 - val_loss: 0.8264 - val_acc: 0.8116\n",
            "Epoch 16/30\n",
            "108/108 [==============================] - 1s 6ms/step - loss: 0.1757 - acc: 0.9377 - val_loss: 0.8813 - val_acc: 0.7907\n",
            "Epoch 17/30\n",
            "108/108 [==============================] - 1s 6ms/step - loss: 0.1542 - acc: 0.9424 - val_loss: 0.8437 - val_acc: 0.8140\n",
            "Epoch 18/30\n",
            "108/108 [==============================] - 1s 6ms/step - loss: 0.1458 - acc: 0.9461 - val_loss: 1.1017 - val_acc: 0.7837\n",
            "Epoch 19/30\n",
            "108/108 [==============================] - 1s 6ms/step - loss: 0.1278 - acc: 0.9539 - val_loss: 1.0814 - val_acc: 0.7791\n",
            "Epoch 20/30\n",
            "108/108 [==============================] - 1s 6ms/step - loss: 0.1284 - acc: 0.9539 - val_loss: 0.9732 - val_acc: 0.8047\n",
            "Epoch 21/30\n",
            "108/108 [==============================] - 1s 6ms/step - loss: 0.1144 - acc: 0.9623 - val_loss: 0.9879 - val_acc: 0.8047\n",
            "Epoch 22/30\n",
            "108/108 [==============================] - 1s 6ms/step - loss: 0.1122 - acc: 0.9571 - val_loss: 1.0180 - val_acc: 0.8140\n",
            "Epoch 23/30\n",
            "108/108 [==============================] - 1s 6ms/step - loss: 0.1087 - acc: 0.9609 - val_loss: 0.9924 - val_acc: 0.7977\n",
            "Epoch 24/30\n",
            "108/108 [==============================] - 1s 6ms/step - loss: 0.1022 - acc: 0.9638 - val_loss: 1.0713 - val_acc: 0.8209\n",
            "Epoch 25/30\n",
            "108/108 [==============================] - 1s 6ms/step - loss: 0.1047 - acc: 0.9647 - val_loss: 1.1941 - val_acc: 0.7884\n",
            "Epoch 26/30\n",
            "108/108 [==============================] - 1s 6ms/step - loss: 0.0916 - acc: 0.9638 - val_loss: 1.1079 - val_acc: 0.8047\n",
            "Epoch 27/30\n",
            "108/108 [==============================] - 1s 6ms/step - loss: 0.1040 - acc: 0.9652 - val_loss: 1.0352 - val_acc: 0.8047\n",
            "Epoch 28/30\n",
            "108/108 [==============================] - 1s 6ms/step - loss: 0.0942 - acc: 0.9649 - val_loss: 1.1149 - val_acc: 0.8023\n",
            "Epoch 29/30\n",
            "108/108 [==============================] - 1s 6ms/step - loss: 0.0775 - acc: 0.9710 - val_loss: 1.1637 - val_acc: 0.7930\n",
            "Epoch 30/30\n",
            "108/108 [==============================] - 1s 7ms/step - loss: 0.0897 - acc: 0.9687 - val_loss: 1.0694 - val_acc: 0.7977\n"
          ]
        }
      ]
    },
    {
      "cell_type": "code",
      "metadata": {
        "colab": {
          "base_uri": "https://localhost:8080/",
          "height": 545
        },
        "id": "kGfS6sBFPHUC",
        "outputId": "cd947c01-b62b-4746-d3bd-156858c2cbfb"
      },
      "source": [
        "import matplotlib.pyplot as plt\n",
        "acc = history.history['acc']\n",
        "val_acc = history.history['val_acc']\n",
        "loss = history.history['loss']\n",
        "val_loss = history.history['val_loss']\n",
        "epochs = range(1, len(acc) + 1)\n",
        "plt.plot(epochs, acc, 'bo', label='Training acc')\n",
        "plt.plot(epochs, val_acc, 'b', label='Validation acc')\n",
        "plt.title('Training and validation accuracy')\n",
        "plt.legend()\n",
        "plt.figure()\n",
        "plt.plot(epochs, loss, 'bo', label='Training loss')\n",
        "plt.plot(epochs, val_loss, 'b', label='Validation loss')\n",
        "plt.title('Training and validation loss')\n",
        "plt.legend()\n",
        "plt.show()"
      ],
      "execution_count": null,
      "outputs": [
        {
          "output_type": "display_data",
          "data": {
            "image/png": "[encoded data removed]",
            "text/plain": [
              "<Figure size 432x288 with 1 Axes>"
            ]
          },
          "metadata": {
            "needs_background": "light"
          }
        },
        {
          "output_type": "display_data",
          "data": {
            "image/png": "[encoded data removed]",
            "text/plain": [
              "<Figure size 432x288 with 1 Axes>"
            ]
          },
          "metadata": {
            "needs_background": "light"
          }
        }
      ]
    },
    {
      "cell_type": "code",
      "metadata": {
        "id": "GW3kKWIhPQXP"
      },
      "source": [
        "model.save('flower_trans.h5')"
      ],
      "execution_count": null,
      "outputs": []
    },
    {
      "cell_type": "code",
      "metadata": {
        "id": "taeWdJqhqwuy"
      },
      "source": [
        ""
      ],
      "execution_count": null,
      "outputs": []
    },
    {
      "cell_type": "code",
      "metadata": {
        "id": "_lA3_saoeXwz"
      },
      "source": [
        "conv_base.trainable = False"
      ],
      "execution_count": null,
      "outputs": []
    },
    {
      "cell_type": "code",
      "metadata": {
        "id": "FLy9h1Bfc3-2"
      },
      "source": [
        "from tensorflow.keras import models\n",
        "from tensorflow.keras import layers\n",
        "model2 = models.Sequential()\n",
        "model2.add(conv_base)\n",
        "model2.add(layers.Flatten())\n",
        "model2.add(layers.Dense(256, activation='relu'))\n",
        "model2.add(layers.Dense(5, activation='softmax'))"
      ],
      "execution_count": null,
      "outputs": []
    },
    {
      "cell_type": "code",
      "metadata": {
        "colab": {
          "base_uri": "https://localhost:8080/"
        },
        "id": "No0xg5F0c4Bq",
        "outputId": "2a716df1-8b7d-4a3a-9a94-f1763a604714"
      },
      "source": [
        "from tensorflow.keras.preprocessing.image import ImageDataGenerator\n",
        "train_datagen = ImageDataGenerator(\n",
        "    rescale=1./255,\n",
        "    rotation_range=40,\n",
        "    width_shift_range=0.2,\n",
        "    height_shift_range=0.2,\n",
        "    shear_range=0.2,\n",
        "    zoom_range=0.2,\n",
        "    horizontal_flip=True,)\n",
        "val_datagen = ImageDataGenerator(rescale=1./255)\n",
        "\n",
        "train_generator = train_datagen.flow_from_directory(\n",
        "    \"/content/drive/MyDrive/flower_classification/data/train\",\n",
        "    target_size=(150, 150),\n",
        "    batch_size=32,\n",
        "    class_mode='categorical')\n",
        "validation_generator = val_datagen.flow_from_directory(\n",
        "    \"/content/drive/MyDrive/flower_classification/data/val\",\n",
        "    target_size=(150, 150),\n",
        "    batch_size=32,\n",
        "    class_mode='categorical')"
      ],
      "execution_count": null,
      "outputs": [
        {
          "output_type": "stream",
          "name": "stdout",
          "text": [
            "Found 3452 images belonging to 5 classes.\n",
            "Found 430 images belonging to 5 classes.\n"
          ]
        }
      ]
    },
    {
      "cell_type": "code",
      "metadata": {
        "id": "hlrNPGjEc4Er"
      },
      "source": [
        "from tensorflow.keras import optimizers\n",
        "model2.compile(loss='categorical_crossentropy',\n",
        "              optimizer=optimizers.RMSprop(),\n",
        "              metrics=['acc'])"
      ],
      "execution_count": null,
      "outputs": []
    },
    {
      "cell_type": "code",
      "metadata": {
        "colab": {
          "base_uri": "https://localhost:8080/"
        },
        "id": "LIVdppoTe19Y",
        "outputId": "69a5a1f7-048e-41b9-e974-3645a57eaeb1"
      },
      "source": [
        "History = model2.fit_generator(\n",
        "    train_generator,\n",
        "    steps_per_epoch=80,\n",
        "    epochs=30,\n",
        "    validation_data=validation_generator,\n",
        "    validation_steps=10)"
      ],
      "execution_count": null,
      "outputs": [
        {
          "output_type": "stream",
          "name": "stderr",
          "text": [
            "/usr/local/lib/python3.7/dist-packages/keras/engine/training.py:1972: UserWarning: `Model.fit_generator` is deprecated and will be removed in a future version. Please use `Model.fit`, which supports generators.\n",
            "  warnings.warn('`Model.fit_generator` is deprecated and '\n"
          ]
        },
        {
          "output_type": "stream",
          "name": "stdout",
          "text": [
            "Epoch 1/30\n",
            "80/80 [==============================] - 31s 378ms/step - loss: 1.6413 - acc: 0.5340 - val_loss: 1.0240 - val_acc: 0.6844\n",
            "Epoch 2/30\n",
            "80/80 [==============================] - 30s 371ms/step - loss: 0.9492 - acc: 0.6408 - val_loss: 0.7432 - val_acc: 0.7219\n",
            "Epoch 3/30\n",
            "80/80 [==============================] - 29s 363ms/step - loss: 0.8426 - acc: 0.6909 - val_loss: 0.6949 - val_acc: 0.7594\n",
            "Epoch 4/30\n",
            "80/80 [==============================] - 29s 366ms/step - loss: 0.7447 - acc: 0.7195 - val_loss: 0.7627 - val_acc: 0.7437\n",
            "Epoch 5/30\n",
            "80/80 [==============================] - 29s 363ms/step - loss: 0.7342 - acc: 0.7297 - val_loss: 0.6026 - val_acc: 0.7844\n",
            "Epoch 6/30\n",
            "80/80 [==============================] - 29s 365ms/step - loss: 0.6970 - acc: 0.7355 - val_loss: 0.5604 - val_acc: 0.7969\n",
            "Epoch 7/30\n",
            "80/80 [==============================] - 29s 363ms/step - loss: 0.6550 - acc: 0.7613 - val_loss: 0.5769 - val_acc: 0.7844\n",
            "Epoch 8/30\n",
            "80/80 [==============================] - 29s 363ms/step - loss: 0.6223 - acc: 0.7696 - val_loss: 0.5251 - val_acc: 0.8125\n",
            "Epoch 9/30\n",
            "80/80 [==============================] - 29s 360ms/step - loss: 0.5922 - acc: 0.7785 - val_loss: 0.5171 - val_acc: 0.8219\n",
            "Epoch 10/30\n",
            "80/80 [==============================] - 29s 362ms/step - loss: 0.5948 - acc: 0.7738 - val_loss: 0.4884 - val_acc: 0.8094\n",
            "Epoch 11/30\n",
            "80/80 [==============================] - 29s 362ms/step - loss: 0.5888 - acc: 0.7898 - val_loss: 0.5105 - val_acc: 0.8250\n",
            "Epoch 12/30\n",
            "80/80 [==============================] - 29s 362ms/step - loss: 0.5514 - acc: 0.7966 - val_loss: 0.5858 - val_acc: 0.8156\n",
            "Epoch 13/30\n",
            "80/80 [==============================] - 29s 362ms/step - loss: 0.5524 - acc: 0.7989 - val_loss: 0.5066 - val_acc: 0.8219\n",
            "Epoch 14/30\n",
            "80/80 [==============================] - 29s 362ms/step - loss: 0.5411 - acc: 0.7996 - val_loss: 0.5350 - val_acc: 0.8188\n",
            "Epoch 15/30\n",
            "80/80 [==============================] - 29s 362ms/step - loss: 0.5098 - acc: 0.8106 - val_loss: 0.5364 - val_acc: 0.8094\n",
            "Epoch 16/30\n",
            "80/80 [==============================] - 29s 361ms/step - loss: 0.5112 - acc: 0.8001 - val_loss: 0.4959 - val_acc: 0.8125\n",
            "Epoch 17/30\n",
            "80/80 [==============================] - 29s 360ms/step - loss: 0.5000 - acc: 0.8199 - val_loss: 0.5868 - val_acc: 0.7844\n",
            "Epoch 18/30\n",
            "80/80 [==============================] - 29s 360ms/step - loss: 0.4835 - acc: 0.8215 - val_loss: 0.6098 - val_acc: 0.8094\n",
            "Epoch 19/30\n",
            "80/80 [==============================] - 29s 364ms/step - loss: 0.4806 - acc: 0.8192 - val_loss: 0.4880 - val_acc: 0.8281\n",
            "Epoch 20/30\n",
            "80/80 [==============================] - 29s 364ms/step - loss: 0.4787 - acc: 0.8234 - val_loss: 0.6760 - val_acc: 0.8156\n",
            "Epoch 21/30\n",
            "80/80 [==============================] - 29s 365ms/step - loss: 0.4476 - acc: 0.8400 - val_loss: 0.4595 - val_acc: 0.8375\n",
            "Epoch 22/30\n",
            "80/80 [==============================] - 29s 364ms/step - loss: 0.4630 - acc: 0.8306 - val_loss: 0.6645 - val_acc: 0.7719\n",
            "Epoch 23/30\n",
            "80/80 [==============================] - 29s 363ms/step - loss: 0.4646 - acc: 0.8196 - val_loss: 0.6028 - val_acc: 0.8156\n",
            "Epoch 24/30\n",
            "80/80 [==============================] - 29s 361ms/step - loss: 0.4238 - acc: 0.8447 - val_loss: 0.4536 - val_acc: 0.8313\n",
            "Epoch 25/30\n",
            "80/80 [==============================] - 29s 363ms/step - loss: 0.4546 - acc: 0.8357 - val_loss: 0.5259 - val_acc: 0.8375\n",
            "Epoch 26/30\n",
            "80/80 [==============================] - 29s 359ms/step - loss: 0.4157 - acc: 0.8482 - val_loss: 0.6109 - val_acc: 0.8031\n",
            "Epoch 27/30\n",
            "80/80 [==============================] - 29s 358ms/step - loss: 0.4208 - acc: 0.8418 - val_loss: 0.5312 - val_acc: 0.8344\n",
            "Epoch 28/30\n",
            "80/80 [==============================] - 29s 359ms/step - loss: 0.4281 - acc: 0.8412 - val_loss: 0.5447 - val_acc: 0.8188\n",
            "Epoch 29/30\n",
            "80/80 [==============================] - 29s 362ms/step - loss: 0.4221 - acc: 0.8443 - val_loss: 0.5147 - val_acc: 0.8125\n",
            "Epoch 30/30\n",
            "80/80 [==============================] - 29s 365ms/step - loss: 0.4115 - acc: 0.8541 - val_loss: 0.5419 - val_acc: 0.8375\n"
          ]
        }
      ]
    },
    {
      "cell_type": "code",
      "metadata": {
        "colab": {
          "base_uri": "https://localhost:8080/",
          "height": 545
        },
        "id": "AL2Cpelei9lb",
        "outputId": "83013483-15b1-4080-e4cf-d772da53cbf7"
      },
      "source": [
        "import matplotlib.pyplot as plt\n",
        "acc = History.history['acc']\n",
        "val_acc = History.history['val_acc']\n",
        "loss = History.history['loss']\n",
        "val_loss = History.history['val_loss']\n",
        "epochs = range(1, len(acc) + 1)\n",
        "plt.plot(epochs, acc, 'bo', label='Training acc')\n",
        "plt.plot(epochs, val_acc, 'b', label='Validation acc')\n",
        "plt.title('Training and validation accuracy')\n",
        "plt.legend()\n",
        "plt.figure()\n",
        "plt.plot(epochs, loss, 'bo', label='Training loss')\n",
        "plt.plot(epochs, val_loss, 'b', label='Validation loss')\n",
        "plt.title('Training and validation loss')\n",
        "plt.legend()\n",
        "plt.show()"
      ],
      "execution_count": null,
      "outputs": [
        {
          "output_type": "display_data",
          "data": {
            "image/png": "[encoded data removed]",
            "text/plain": [
              "<Figure size 432x288 with 1 Axes>"
            ]
          },
          "metadata": {
            "needs_background": "light"
          }
        },
        {
          "output_type": "display_data",
          "data": {
            "image/png": "[encoded data removed]",
            "text/plain": [
              "<Figure size 432x288 with 1 Axes>"
            ]
          },
          "metadata": {
            "needs_background": "light"
          }
        }
      ]
    },
    {
      "cell_type": "code",
      "metadata": {
        "id": "2nLoyohTjc6e"
      },
      "source": [
        ""
      ],
      "execution_count": null,
      "outputs": []
    },
    {
      "cell_type": "code",
      "metadata": {
        "colab": {
          "base_uri": "https://localhost:8080/"
        },
        "id": "bHzeVHeljc-u",
        "outputId": "ac9c4f6a-6a72-4acf-b479-4fae4628a77a"
      },
      "source": [
        "conv_base.summary()"
      ],
      "execution_count": null,
      "outputs": [
        {
          "output_type": "stream",
          "name": "stdout",
          "text": [
            "Model: \"vgg16\"\n",
            "_________________________________________________________________\n",
            "Layer (type)                 Output Shape              Param #   \n",
            "=================================================================\n",
            "input_1 (InputLayer)         [(None, 150, 150, 3)]     0         \n",
            "_________________________________________________________________\n",
            "block1_conv1 (Conv2D)        (None, 150, 150, 64)      1792      \n",
            "_________________________________________________________________\n",
            "block1_conv2 (Conv2D)        (None, 150, 150, 64)      36928     \n",
            "_________________________________________________________________\n",
            "block1_pool (MaxPooling2D)   (None, 75, 75, 64)        0         \n",
            "_________________________________________________________________\n",
            "block2_conv1 (Conv2D)        (None, 75, 75, 128)       73856     \n",
            "_________________________________________________________________\n",
            "block2_conv2 (Conv2D)        (None, 75, 75, 128)       147584    \n",
            "_________________________________________________________________\n",
            "block2_pool (MaxPooling2D)   (None, 37, 37, 128)       0         \n",
            "_________________________________________________________________\n",
            "block3_conv1 (Conv2D)        (None, 37, 37, 256)       295168    \n",
            "_________________________________________________________________\n",
            "block3_conv2 (Conv2D)        (None, 37, 37, 256)       590080    \n",
            "_________________________________________________________________\n",
            "block3_conv3 (Conv2D)        (None, 37, 37, 256)       590080    \n",
            "_________________________________________________________________\n",
            "block3_pool (MaxPooling2D)   (None, 18, 18, 256)       0         \n",
            "_________________________________________________________________\n",
            "block4_conv1 (Conv2D)        (None, 18, 18, 512)       1180160   \n",
            "_________________________________________________________________\n",
            "block4_conv2 (Conv2D)        (None, 18, 18, 512)       2359808   \n",
            "_________________________________________________________________\n",
            "block4_conv3 (Conv2D)        (None, 18, 18, 512)       2359808   \n",
            "_________________________________________________________________\n",
            "block4_pool (MaxPooling2D)   (None, 9, 9, 512)         0         \n",
            "_________________________________________________________________\n",
            "block5_conv1 (Conv2D)        (None, 9, 9, 512)         2359808   \n",
            "_________________________________________________________________\n",
            "block5_conv2 (Conv2D)        (None, 9, 9, 512)         2359808   \n",
            "_________________________________________________________________\n",
            "block5_conv3 (Conv2D)        (None, 9, 9, 512)         2359808   \n",
            "_________________________________________________________________\n",
            "block5_pool (MaxPooling2D)   (None, 4, 4, 512)         0         \n",
            "=================================================================\n",
            "Total params: 14,714,688\n",
            "Trainable params: 0\n",
            "Non-trainable params: 14,714,688\n",
            "_________________________________________________________________\n"
          ]
        }
      ]
    },
    {
      "cell_type": "code",
      "metadata": {
        "id": "shUM4_lijdH6"
      },
      "source": [
        ""
      ],
      "execution_count": null,
      "outputs": []
    },
    {
      "cell_type": "code",
      "metadata": {
        "id": "nAAA6PbHlNdX"
      },
      "source": [
        "conv_base.trainable = True\n",
        "set_trainable = False\n",
        "for layer in conv_base.layers:\n",
        "    if layer.name == 'block5_conv1':\n",
        "        set_trainable = True\n",
        "    if set_trainable:\n",
        "        layer.trainable = True\n",
        "    else:\n",
        "        layer.trainable = False"
      ],
      "execution_count": null,
      "outputs": []
    },
    {
      "cell_type": "code",
      "metadata": {
        "id": "FLoPFRwmmB-Q"
      },
      "source": [
        "model2.compile(loss='categorical_crossentropy',\n",
        "              optimizer=optimizers.RMSprop(),\n",
        "              metrics=['acc'])"
      ],
      "execution_count": null,
      "outputs": []
    },
    {
      "cell_type": "code",
      "metadata": {
        "colab": {
          "base_uri": "https://localhost:8080/"
        },
        "id": "F0Ry17b6lNgB",
        "outputId": "54dbcef0-6749-43f0-89c1-948e32fd90fa"
      },
      "source": [
        "History = model2.fit_generator(\n",
        "    train_generator,\n",
        "    steps_per_epoch=80,\n",
        "    epochs=30,\n",
        "    validation_data=validation_generator,\n",
        "    validation_steps=10)"
      ],
      "execution_count": null,
      "outputs": [
        {
          "output_type": "stream",
          "name": "stderr",
          "text": [
            "/usr/local/lib/python3.7/dist-packages/keras/engine/training.py:1972: UserWarning: `Model.fit_generator` is deprecated and will be removed in a future version. Please use `Model.fit`, which supports generators.\n",
            "  warnings.warn('`Model.fit_generator` is deprecated and '\n"
          ]
        },
        {
          "output_type": "stream",
          "name": "stdout",
          "text": [
            "Epoch 1/30\n",
            "80/80 [==============================] - 33s 382ms/step - loss: 87.7173 - acc: 0.2895 - val_loss: 1.7941 - val_acc: 0.1813\n",
            "Epoch 2/30\n",
            "80/80 [==============================] - 31s 380ms/step - loss: 1.7469 - acc: 0.3277 - val_loss: 1.2535 - val_acc: 0.4719\n",
            "Epoch 3/30\n",
            "80/80 [==============================] - 30s 376ms/step - loss: 2.4153 - acc: 0.4624 - val_loss: 1.1281 - val_acc: 0.5844\n",
            "Epoch 4/30\n",
            "80/80 [==============================] - 30s 378ms/step - loss: 1.3227 - acc: 0.5250 - val_loss: 0.8863 - val_acc: 0.5750\n",
            "Epoch 5/30\n",
            "80/80 [==============================] - 30s 375ms/step - loss: 1.2479 - acc: 0.6107 - val_loss: 0.8047 - val_acc: 0.7344\n",
            "Epoch 6/30\n",
            "80/80 [==============================] - 30s 375ms/step - loss: 0.9738 - acc: 0.6851 - val_loss: 0.5346 - val_acc: 0.8125\n",
            "Epoch 7/30\n",
            "80/80 [==============================] - 30s 374ms/step - loss: 1.0627 - acc: 0.7164 - val_loss: 0.8387 - val_acc: 0.6875\n",
            "Epoch 8/30\n",
            "80/80 [==============================] - 30s 371ms/step - loss: 0.7505 - acc: 0.7445 - val_loss: 1.6000 - val_acc: 0.6562\n",
            "Epoch 9/30\n",
            "80/80 [==============================] - 30s 374ms/step - loss: 0.8117 - acc: 0.7383 - val_loss: 0.6621 - val_acc: 0.7875\n",
            "Epoch 10/30\n",
            "80/80 [==============================] - 30s 377ms/step - loss: 0.7522 - acc: 0.7707 - val_loss: 0.6181 - val_acc: 0.7812\n",
            "Epoch 11/30\n",
            "80/80 [==============================] - 30s 374ms/step - loss: 0.8593 - acc: 0.7633 - val_loss: 0.6820 - val_acc: 0.8000\n",
            "Epoch 12/30\n",
            "80/80 [==============================] - 30s 375ms/step - loss: 0.6359 - acc: 0.7844 - val_loss: 0.6025 - val_acc: 0.7750\n",
            "Epoch 13/30\n",
            "80/80 [==============================] - 30s 375ms/step - loss: 0.6307 - acc: 0.7918 - val_loss: 0.5318 - val_acc: 0.8375\n",
            "Epoch 14/30\n",
            "80/80 [==============================] - 30s 375ms/step - loss: 0.6006 - acc: 0.8106 - val_loss: 0.6009 - val_acc: 0.7969\n",
            "Epoch 15/30\n",
            "80/80 [==============================] - 30s 372ms/step - loss: 0.5845 - acc: 0.8181 - val_loss: 0.3915 - val_acc: 0.8687\n",
            "Epoch 16/30\n",
            "80/80 [==============================] - 30s 373ms/step - loss: 0.5547 - acc: 0.8169 - val_loss: 1.1093 - val_acc: 0.8250\n",
            "Epoch 17/30\n",
            "80/80 [==============================] - 30s 374ms/step - loss: 0.6008 - acc: 0.8242 - val_loss: 1.0694 - val_acc: 0.7750\n",
            "Epoch 18/30\n",
            "80/80 [==============================] - 30s 372ms/step - loss: 0.5062 - acc: 0.8415 - val_loss: 1.4281 - val_acc: 0.8281\n",
            "Epoch 19/30\n",
            "80/80 [==============================] - 30s 372ms/step - loss: 0.5521 - acc: 0.8176 - val_loss: 0.4495 - val_acc: 0.8344\n",
            "Epoch 20/30\n",
            "80/80 [==============================] - 30s 374ms/step - loss: 0.5362 - acc: 0.8415 - val_loss: 1.2680 - val_acc: 0.8438\n",
            "Epoch 21/30\n",
            "80/80 [==============================] - 30s 373ms/step - loss: 0.6003 - acc: 0.8408 - val_loss: 0.7585 - val_acc: 0.8031\n",
            "Epoch 22/30\n",
            "80/80 [==============================] - 30s 374ms/step - loss: 0.4398 - acc: 0.8517 - val_loss: 0.4273 - val_acc: 0.8969\n",
            "Epoch 23/30\n",
            "80/80 [==============================] - 30s 374ms/step - loss: 0.5250 - acc: 0.8396 - val_loss: 2.0040 - val_acc: 0.7750\n",
            "Epoch 24/30\n",
            "80/80 [==============================] - 30s 372ms/step - loss: 0.4706 - acc: 0.8498 - val_loss: 0.6209 - val_acc: 0.8687\n",
            "Epoch 25/30\n",
            "80/80 [==============================] - 30s 373ms/step - loss: 0.4810 - acc: 0.8541 - val_loss: 0.5447 - val_acc: 0.8125\n",
            "Epoch 26/30\n",
            "80/80 [==============================] - 30s 371ms/step - loss: 0.4729 - acc: 0.8527 - val_loss: 1.6274 - val_acc: 0.8125\n",
            "Epoch 27/30\n",
            "80/80 [==============================] - 30s 374ms/step - loss: 0.4360 - acc: 0.8595 - val_loss: 1.4965 - val_acc: 0.8656\n",
            "Epoch 28/30\n",
            "80/80 [==============================] - 30s 375ms/step - loss: 0.4970 - acc: 0.8689 - val_loss: 0.5499 - val_acc: 0.8594\n",
            "Epoch 29/30\n",
            "80/80 [==============================] - 30s 376ms/step - loss: 0.4822 - acc: 0.8580 - val_loss: 0.5423 - val_acc: 0.8125\n",
            "Epoch 30/30\n",
            "80/80 [==============================] - 30s 377ms/step - loss: 0.6747 - acc: 0.8529 - val_loss: 0.8802 - val_acc: 0.8781\n"
          ]
        }
      ]
    },
    {
      "cell_type": "code",
      "metadata": {
        "colab": {
          "base_uri": "https://localhost:8080/",
          "height": 545
        },
        "id": "oTdbgaktqell",
        "outputId": "246b925d-5456-4841-a68a-6892f4fb8a8a"
      },
      "source": [
        "import matplotlib.pyplot as plt\n",
        "acc = History.history['acc']\n",
        "val_acc = History.history['val_acc']\n",
        "loss = History.history['loss']\n",
        "val_loss = History.history['val_loss']\n",
        "epochs = range(1, len(acc) + 1)\n",
        "plt.plot(epochs, acc, 'bo', label='Training acc')\n",
        "plt.plot(epochs, val_acc, 'b', label='Validation acc')\n",
        "plt.title('Training and validation accuracy')\n",
        "plt.legend()\n",
        "plt.figure()\n",
        "plt.plot(epochs, loss, 'bo', label='Training loss')\n",
        "plt.plot(epochs, val_loss, 'b', label='Validation loss')\n",
        "plt.title('Training and validation loss')\n",
        "plt.legend()\n",
        "plt.show()"
      ],
      "execution_count": null,
      "outputs": [
        {
          "output_type": "display_data",
          "data": {
            "image/png": "[encoded data removed]",
            "text/plain": [
              "<Figure size 432x288 with 1 Axes>"
            ]
          },
          "metadata": {
            "needs_background": "light"
          }
        },
        {
          "output_type": "display_data",
          "data": {
            "image/png": "[encoded data removed]",
            "text/plain": [
              "<Figure size 432x288 with 1 Axes>"
            ]
          },
          "metadata": {
            "needs_background": "light"
          }
        }
      ]
    },
    {
      "cell_type": "code",
      "metadata": {
        "id": "YjWxUHIZqyov"
      },
      "source": [
        "model.save('flower_finetune.h5')"
      ],
      "execution_count": null,
      "outputs": []
    }
  ]
}